{
 "cells": [
  {
   "cell_type": "code",
   "execution_count": 19,
   "metadata": {},
   "outputs": [
    {
     "name": "stdout",
     "output_type": "stream",
     "text": [
      "*  \n",
      "* *  \n",
      "* * *  \n",
      "* * * *  \n",
      "* * * * *  \n",
      "* * * *  \n",
      "* * *  \n",
      "* *  \n",
      "*  \n",
      " \n"
     ]
    }
   ],
   "source": [
    "row = 5\n",
    "\n",
    "for i in range(0,row):\n",
    "    for j in range(0, i+1):\n",
    "         print(\"*\", end=' ')  \n",
    "    \n",
    "    print(\" \")\n",
    "\n",
    "for i in range(row,0,-1):\n",
    "    for j in range(0, i - 1):\n",
    "        print(\"*\", end=' ')\n",
    "        \n",
    "    print(\" \")       \n",
    "         "
   ]
  },
  {
   "cell_type": "code",
   "execution_count": 22,
   "metadata": {},
   "outputs": [
    {
     "name": "stdout",
     "output_type": "stream",
     "text": [
      "Please enter the string:Apeksha\n"
     ]
    },
    {
     "data": {
      "text/plain": [
       "'ahskepA'"
      ]
     },
     "execution_count": 22,
     "metadata": {},
     "output_type": "execute_result"
    }
   ],
   "source": [
    "\n",
    "type(str)\n"
   ]
  },
  {
   "cell_type": "code",
   "execution_count": 24,
   "metadata": {},
   "outputs": [
    {
     "name": "stdout",
     "output_type": "stream",
     "text": [
      "Please enter the string:Apeksha\n",
      "The Input string  is : Apeksha\n",
      "The output of reversed string is : ahskepA\n"
     ]
    }
   ],
   "source": [
    "def reverse(str): \n",
    "    str = str[::-1] \n",
    "    return str \n",
    "  \n",
    "str = input(\"Please enter the string:\")\n",
    "  \n",
    "print (\"The Input string  is : \",end=\"\") \n",
    "print (str) \n",
    "  \n",
    "print (\"The output of reversed string is : \",end=\"\") \n",
    "print (reverse(str)) "
   ]
  },
  {
   "cell_type": "code",
   "execution_count": null,
   "metadata": {},
   "outputs": [],
   "source": []
  }
 ],
 "metadata": {
  "kernelspec": {
   "display_name": "Python 3",
   "language": "python",
   "name": "python3"
  },
  "language_info": {
   "codemirror_mode": {
    "name": "ipython",
    "version": 3
   },
   "file_extension": ".py",
   "mimetype": "text/x-python",
   "name": "python",
   "nbconvert_exporter": "python",
   "pygments_lexer": "ipython3",
   "version": "3.7.1"
  }
 },
 "nbformat": 4,
 "nbformat_minor": 2
}
